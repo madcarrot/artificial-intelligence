{
 "cells": [
  {
   "cell_type": "code",
   "execution_count": null,
   "metadata": {},
   "outputs": [],
   "source": [
    "from aimacode.search import (breadth_first_search, astar_search,\n",
    "    breadth_first_tree_search, depth_first_graph_search, uniform_cost_search,\n",
    "    greedy_best_first_graph_search, depth_limited_search,\n",
    "    recursive_best_first_search)\n",
    "from air_cargo_problems import air_cargo_p1, air_cargo_p2, air_cargo_p3, air_cargo_p4\n",
    "\n",
    "from _utils import run_search\n",
    "\n",
    "import pandas as pd\n",
    "import dask\n",
    "from dask import delayed\n",
    "\n",
    "PROBLEMS = [\n",
    "            [\"Air Cargo Problem 1\", air_cargo_p1],\n",
    "            [\"Air Cargo Problem 2\", air_cargo_p2],\n",
    "            [\"Air Cargo Problem 3\", air_cargo_p3],\n",
    "            [\"Air Cargo Problem 4\", air_cargo_p4]\n",
    "           ]\n",
    "SEARCHES = [\n",
    "            [\"breadth_first_search\", breadth_first_search, \"\"],\n",
    "            ['depth_first_graph_search', depth_first_graph_search, \"\"],\n",
    "            ['uniform_cost_search', uniform_cost_search, \"\"],\n",
    "            ['greedy_best_first_graph_search', greedy_best_first_graph_search, 'h_unmet_goals'],\n",
    "            ['greedy_best_first_graph_search', greedy_best_first_graph_search, 'h_pg_levelsum'],\n",
    "            ['greedy_best_first_graph_search', greedy_best_first_graph_search, 'h_pg_maxlevel'],\n",
    "            ['greedy_best_first_graph_search', greedy_best_first_graph_search, 'h_pg_setlevel'],\n",
    "            ['astar_search', astar_search, 'h_unmet_goals'],\n",
    "            ['astar_search', astar_search, 'h_pg_levelsum'],\n",
    "            ['astar_search', astar_search, 'h_pg_maxlevel'],\n",
    "            ['astar_search', astar_search, 'h_pg_setlevel']\n",
    "           ]"
   ]
  }
 ],
 "metadata": {
  "kernelspec": {
   "display_name": "Python 3",
   "language": "python",
   "name": "python3"
  },
  "language_info": {
   "codemirror_mode": {
    "name": "ipython",
    "version": 3
   },
   "file_extension": ".py",
   "mimetype": "text/x-python",
   "name": "python",
   "nbconvert_exporter": "python",
   "pygments_lexer": "ipython3",
   "version": "3.6.0"
  }
 },
 "nbformat": 4,
 "nbformat_minor": 2
}
